{
 "cells": [
  {
   "cell_type": "code",
   "execution_count": 1,
   "id": "e7e60d46",
   "metadata": {},
   "outputs": [],
   "source": [
    "from scipy.stats import norm"
   ]
  },
  {
   "cell_type": "code",
   "execution_count": 2,
   "id": "bf2e9c4f",
   "metadata": {},
   "outputs": [
    {
     "data": {
      "text/plain": [
       "0.9918024640754038"
      ]
     },
     "execution_count": 2,
     "metadata": {},
     "output_type": "execute_result"
    }
   ],
   "source": [
    "norm.cdf(2.4)"
   ]
  },
  {
   "cell_type": "code",
   "execution_count": 5,
   "id": "08aad14b",
   "metadata": {},
   "outputs": [
    {
     "name": "stdout",
     "output_type": "stream",
     "text": [
      "2.4 2.4000000000000017\n"
     ]
    }
   ],
   "source": [
    "## If we convert inches to cm, will z_score change?\n",
    "h_in = 71\n",
    "h_cm = 71 * 2.54\n",
    "\n",
    "mu_in = 65\n",
    "mu_cm = mu_in * 2.54\n",
    "\n",
    "s_in = 2.5\n",
    "s_cm = s_in * 2.54\n",
    "\n",
    "z_in = (h_in - mu_in)/s_in\n",
    "z_cm = (h_cm - mu_cm)/s_cm\n",
    "\n",
    "print(z_in, z_cm)"
   ]
  },
  {
   "cell_type": "code",
   "execution_count": 6,
   "id": "79451fad",
   "metadata": {},
   "outputs": [
    {
     "data": {
      "text/plain": [
       "0.9331927987311419"
      ]
     },
     "execution_count": 6,
     "metadata": {},
     "output_type": "execute_result"
    }
   ],
   "source": [
    "z = (53 - 50)/2\n",
    "norm.cdf(z)"
   ]
  },
  {
   "cell_type": "code",
   "execution_count": 7,
   "id": "fc57cf47",
   "metadata": {},
   "outputs": [
    {
     "data": {
      "text/plain": [
       "0.9544997361036416"
      ]
     },
     "execution_count": 7,
     "metadata": {},
     "output_type": "execute_result"
    }
   ],
   "source": [
    "norm.cdf(2) - norm.cdf(-2)"
   ]
  },
  {
   "cell_type": "code",
   "execution_count": 8,
   "id": "40d17779",
   "metadata": {},
   "outputs": [
    {
     "data": {
      "text/plain": [
       "-1.6448536269514729"
      ]
     },
     "execution_count": 8,
     "metadata": {},
     "output_type": "execute_result"
    }
   ],
   "source": [
    "norm.ppf(0.05) ## What should the z value be so that the cdf value is 0.05?"
   ]
  },
  {
   "cell_type": "code",
   "execution_count": 9,
   "id": "9a06ceb7",
   "metadata": {},
   "outputs": [
    {
     "data": {
      "text/plain": [
       "0.06680720126885809"
      ]
     },
     "execution_count": 9,
     "metadata": {},
     "output_type": "execute_result"
    }
   ],
   "source": [
    "1 - norm.cdf(1.5)"
   ]
  },
  {
   "cell_type": "code",
   "execution_count": null,
   "id": "1b7547df",
   "metadata": {},
   "outputs": [],
   "source": []
  }
 ],
 "metadata": {
  "kernelspec": {
   "display_name": "Python 3 (ipykernel)",
   "language": "python",
   "name": "python3"
  },
  "language_info": {
   "codemirror_mode": {
    "name": "ipython",
    "version": 3
   },
   "file_extension": ".py",
   "mimetype": "text/x-python",
   "name": "python",
   "nbconvert_exporter": "python",
   "pygments_lexer": "ipython3",
   "version": "3.9.12"
  }
 },
 "nbformat": 4,
 "nbformat_minor": 5
}
