{
 "cells": [
  {
   "cell_type": "code",
   "execution_count": 2,
   "id": "964d8d72",
   "metadata": {},
   "outputs": [],
   "source": [
    "## Usual suspects - The import lineup\n",
    "import math as m\n",
    "import numpy as np\n",
    "import pandas as pd\n",
    "import seaborn as sns\n",
    "import matplotlib.pyplot as plt"
   ]
  },
  {
   "cell_type": "markdown",
   "id": "b35a391f",
   "metadata": {},
   "source": [
    "## Casino Case Study\n",
    "\n",
    "A bag has 3 red and 2 blue balls.\n",
    "You pick a ball, write its colour, and put it back in the bag. This is done 4 times in total.\n",
    "If all 4 times, the red ball was drawn, you win Rs 150.\n",
    "Would you play this game?"
   ]
  },
  {
   "cell_type": "code",
   "execution_count": 37,
   "id": "5caece20",
   "metadata": {},
   "outputs": [
    {
     "name": "stdout",
     "output_type": "stream",
     "text": [
      "['B' 'B' 'R' 'R']\n",
      "2\n"
     ]
    }
   ],
   "source": [
    "trial = np.random.choice([\"R\", \"R\", \"R\", \"B\", \"B\"], size=4)\n",
    "num_red = np.count_nonzero(trial == \"R\")\n",
    "\n",
    "print(trial)\n",
    "print(num_red)"
   ]
  },
  {
   "cell_type": "code",
   "execution_count": 39,
   "id": "cc126da1",
   "metadata": {},
   "outputs": [
    {
     "name": "stderr",
     "output_type": "stream",
     "text": [
      "/Users/dhruv/miniconda3/envs/def/lib/python3.9/site-packages/seaborn/_decorators.py:36: FutureWarning: Pass the following variable as a keyword arg: x. From version 0.12, the only valid positional argument will be `data`, and passing other arguments without an explicit keyword will result in an error or misinterpretation.\n",
      "  warnings.warn(\n"
     ]
    },
    {
     "data": {
      "text/plain": [
       "<AxesSubplot:ylabel='count'>"
      ]
     },
     "execution_count": 39,
     "metadata": {},
     "output_type": "execute_result"
    },
    {
     "data": {
      "image/png": "[encoded data removed]",
      "text/plain": [
       "<Figure size 432x288 with 1 Axes>"
      ]
     },
     "metadata": {
      "needs_background": "light"
     },
     "output_type": "display_data"
    }
   ],
   "source": [
    "n = 10000\n",
    "trials = []\n",
    "for i in range(n+1):\n",
    "    trial = np.random.choice([\"R\", \"R\", \"R\", \"B\", \"B\"], size=4)\n",
    "    num_red = np.count_nonzero(trial == \"R\")\n",
    "    trials.append(num_red)\n",
    "\n",
    "sns.countplot(trials)"
   ]
  },
  {
   "cell_type": "code",
   "execution_count": 17,
   "id": "e19e97d5",
   "metadata": {},
   "outputs": [],
   "source": [
    "counts = {}\n",
    "for t in trials:\n",
    "    if t in counts:\n",
    "        counts[t] += 1\n",
    "    else:\n",
    "        counts[t] = 1"
   ]
  },
  {
   "cell_type": "code",
   "execution_count": 18,
   "id": "22902595",
   "metadata": {},
   "outputs": [
    {
     "name": "stdout",
     "output_type": "stream",
     "text": [
      "0 246\n",
      "1 1567\n",
      "2 3438\n",
      "3 3441\n",
      "4 1308\n",
      "2.3998\n"
     ]
    }
   ],
   "source": [
    "expectation = 0\n",
    "for i in range(len(counts)):\n",
    "    expectation += i * counts[i]\n",
    "    print(i, counts[i])\n",
    "expectation = expectation / len(trials)\n",
    "print(expectation)"
   ]
  },
  {
   "cell_type": "code",
   "execution_count": 15,
   "id": "a56a9ae6",
   "metadata": {},
   "outputs": [
    {
     "data": {
      "text/plain": [
       "2.546666666666667"
      ]
     },
     "execution_count": 15,
     "metadata": {},
     "output_type": "execute_result"
    }
   ],
   "source": [
    "191/75"
   ]
  },
  {
   "cell_type": "code",
   "execution_count": 23,
   "id": "d67686ce",
   "metadata": {},
   "outputs": [
    {
     "data": {
      "text/plain": [
       "0.3456000000000001"
      ]
     },
     "execution_count": 23,
     "metadata": {},
     "output_type": "execute_result"
    }
   ],
   "source": [
    "p_x_2 = m.comb(4, 2) * (2/5)**2 * (3/5)**2\n",
    "p_x_2"
   ]
  },
  {
   "cell_type": "code",
   "execution_count": 24,
   "id": "4f1b19a8",
   "metadata": {},
   "outputs": [
    {
     "name": "stdout",
     "output_type": "stream",
     "text": [
      "0.34560000000000024\n"
     ]
    }
   ],
   "source": [
    "from scipy.stats import binom\n",
    "\n",
    "n = 4\n",
    "k = 2\n",
    "p = 3/5\n",
    "\n",
    "print(binom.pmf(n=n, k=k, p=p))"
   ]
  },
  {
   "cell_type": "markdown",
   "id": "dbb1f02f",
   "metadata": {},
   "source": [
    "## Plotting the Probability mass function"
   ]
  },
  {
   "cell_type": "code",
   "execution_count": 29,
   "id": "93ca596e",
   "metadata": {},
   "outputs": [
    {
     "name": "stderr",
     "output_type": "stream",
     "text": [
      "/Users/dhruv/miniconda3/envs/def/lib/python3.9/site-packages/seaborn/_decorators.py:36: FutureWarning: Pass the following variables as keyword args: x, y. From version 0.12, the only valid positional argument will be `data`, and passing other arguments without an explicit keyword will result in an error or misinterpretation.\n",
      "  warnings.warn(\n"
     ]
    },
    {
     "data": {
      "text/plain": [
       "<AxesSubplot:>"
      ]
     },
     "execution_count": 29,
     "metadata": {},
     "output_type": "execute_result"
    },
    {
     "data": {
      "image/png": "[encoded data removed]",
      "text/plain": [
       "<Figure size 432x288 with 1 Axes>"
      ]
     },
     "metadata": {
      "needs_background": "light"
     },
     "output_type": "display_data"
    }
   ],
   "source": [
    "X = [0, 1, 2, 3, 4]\n",
    "P = []\n",
    "\n",
    "n = len(X)-1\n",
    "p = 3/5\n",
    "\n",
    "for k in X:\n",
    "    P.append(binom.pmf(n=n, k=k, p=p))\n",
    "\n",
    "sns.barplot(X, P)"
   ]
  },
  {
   "cell_type": "code",
   "execution_count": 32,
   "id": "4c5333f5",
   "metadata": {},
   "outputs": [],
   "source": [
    "p_y_150 = binom.pmf(n=4, k=4, p=(3/5))\n",
    "e_y = 150 * p_y_150 + (-10) * (1 - p_y_150)"
   ]
  },
  {
   "cell_type": "code",
   "execution_count": 33,
   "id": "f2872531",
   "metadata": {},
   "outputs": [
    {
     "data": {
      "text/plain": [
       "10.735999999999997"
      ]
     },
     "execution_count": 33,
     "metadata": {},
     "output_type": "execute_result"
    }
   ],
   "source": [
    "e_y"
   ]
  },
  {
   "cell_type": "code",
   "execution_count": 45,
   "id": "3c5295fe",
   "metadata": {},
   "outputs": [
    {
     "name": "stderr",
     "output_type": "stream",
     "text": [
      "/Users/dhruv/miniconda3/envs/def/lib/python3.9/site-packages/seaborn/_decorators.py:36: FutureWarning: Pass the following variable as a keyword arg: x. From version 0.12, the only valid positional argument will be `data`, and passing other arguments without an explicit keyword will result in an error or misinterpretation.\n",
      "  warnings.warn(\n"
     ]
    },
    {
     "data": {
      "text/plain": [
       "<AxesSubplot:ylabel='count'>"
      ]
     },
     "execution_count": 45,
     "metadata": {},
     "output_type": "execute_result"
    },
    {
     "data": {
      "image/png": "[encoded data removed]",
      "text/plain": [
       "<Figure size 432x288 with 1 Axes>"
      ]
     },
     "metadata": {
      "needs_background": "light"
     },
     "output_type": "display_data"
    }
   ],
   "source": [
    "n = 10000\n",
    "trials = []\n",
    "for i in range(n+1):\n",
    "    trial = np.random.choice([\"R\", \"R\", \"R\", \"B\", \"B\"], size=4)\n",
    "    num_red = np.count_nonzero(trial == \"R\")\n",
    "    if num_red == 4:\n",
    "        trials.append(150)\n",
    "    else:\n",
    "        trials.append(-10)\n",
    "sns.countplot(trials)"
   ]
  },
  {
   "cell_type": "code",
   "execution_count": 46,
   "id": "9e5f44f6",
   "metadata": {},
   "outputs": [],
   "source": [
    "counts = {}\n",
    "for t in trials:\n",
    "    if t in counts:\n",
    "        counts[t] += 1\n",
    "    else:\n",
    "        counts[t] = 1"
   ]
  },
  {
   "cell_type": "code",
   "execution_count": 47,
   "id": "e70c9bc7",
   "metadata": {},
   "outputs": [
    {
     "data": {
      "text/plain": [
       "{150: 1294, -10: 8707}"
      ]
     },
     "execution_count": 47,
     "metadata": {},
     "output_type": "execute_result"
    }
   ],
   "source": [
    "counts"
   ]
  },
  {
   "cell_type": "code",
   "execution_count": 48,
   "id": "681e3183",
   "metadata": {},
   "outputs": [
    {
     "name": "stdout",
     "output_type": "stream",
     "text": [
      "Money won:  194100\n",
      "Money lost:  -87070\n",
      "Overall:  107030\n",
      "Overall:  10.701929807019297\n"
     ]
    }
   ],
   "source": [
    "money_lost = counts[-10] * -10\n",
    "money_won = counts[150] * 150\n",
    "\n",
    "print(\"Money won: \", money_won)\n",
    "print(\"Money lost: \", money_lost)\n",
    "\n",
    "print(\"Overall: \", money_lost + money_won)\n",
    "print(\"Overall: \", (money_lost + money_won) / len(trials) )"
   ]
  },
  {
   "cell_type": "code",
   "execution_count": 49,
   "id": "27ade5fa",
   "metadata": {},
   "outputs": [
    {
     "name": "stdout",
     "output_type": "stream",
     "text": [
      "1.0000000000000002\n"
     ]
    }
   ],
   "source": [
    "n = 2\n",
    "p = 1/2\n",
    "\n",
    "print(binom.expect(args=(n, p)))"
   ]
  },
  {
   "cell_type": "code",
   "execution_count": 50,
   "id": "10303949",
   "metadata": {},
   "outputs": [
    {
     "name": "stderr",
     "output_type": "stream",
     "text": [
      "/Users/dhruv/miniconda3/envs/def/lib/python3.9/site-packages/seaborn/_decorators.py:36: FutureWarning: Pass the following variables as keyword args: x, y. From version 0.12, the only valid positional argument will be `data`, and passing other arguments without an explicit keyword will result in an error or misinterpretation.\n",
      "  warnings.warn(\n"
     ]
    },
    {
     "data": {
      "text/plain": [
       "<AxesSubplot:>"
      ]
     },
     "execution_count": 50,
     "metadata": {},
     "output_type": "execute_result"
    },
    {
     "data": {
      "image/png": "[encoded data removed]",
      "text/plain": [
       "<Figure size 432x288 with 1 Axes>"
      ]
     },
     "metadata": {
      "needs_background": "light"
     },
     "output_type": "display_data"
    }
   ],
   "source": [
    "X = [0, 1, 2, 3, 4, 5, 6, 7, 8, 9, 10]\n",
    "P = []\n",
    "\n",
    "n = len(X)-1\n",
    "p = 1/4\n",
    "\n",
    "for k in X:\n",
    "    P.append(binom.pmf(n=n, k=k, p=p))\n",
    "\n",
    "sns.barplot(X, P)"
   ]
  },
  {
   "cell_type": "code",
   "execution_count": 51,
   "id": "7a2c4123",
   "metadata": {},
   "outputs": [
    {
     "name": "stderr",
     "output_type": "stream",
     "text": [
      "/Users/dhruv/miniconda3/envs/def/lib/python3.9/site-packages/seaborn/_decorators.py:36: FutureWarning: Pass the following variables as keyword args: x, y. From version 0.12, the only valid positional argument will be `data`, and passing other arguments without an explicit keyword will result in an error or misinterpretation.\n",
      "  warnings.warn(\n"
     ]
    },
    {
     "data": {
      "text/plain": [
       "<AxesSubplot:>"
      ]
     },
     "execution_count": 51,
     "metadata": {},
     "output_type": "execute_result"
    },
    {
     "data": {
      "image/png": "[encoded data removed]",
      "text/plain": [
       "<Figure size 432x288 with 1 Axes>"
      ]
     },
     "metadata": {
      "needs_background": "light"
     },
     "output_type": "display_data"
    }
   ],
   "source": [
    "X = [0, 1, 2, 3, 4, 5, 6, 7, 8, 9, 10]\n",
    "P = []\n",
    "\n",
    "n = len(X)-1\n",
    "p = 1/4\n",
    "\n",
    "for k in X:\n",
    "    P.append(binom.cdf(n=n, k=k, p=p))\n",
    "\n",
    "sns.barplot(X, P)"
   ]
  },
  {
   "cell_type": "code",
   "execution_count": null,
   "id": "5e8f9a8e",
   "metadata": {},
   "outputs": [],
   "source": []
  }
 ],
 "metadata": {
  "kernelspec": {
   "display_name": "Python 3 (ipykernel)",
   "language": "python",
   "name": "python3"
  },
  "language_info": {
   "codemirror_mode": {
    "name": "ipython",
    "version": 3
   },
   "file_extension": ".py",
   "mimetype": "text/x-python",
   "name": "python",
   "nbconvert_exporter": "python",
   "pygments_lexer": "ipython3",
   "version": "3.9.12"
  }
 },
 "nbformat": 4,
 "nbformat_minor": 5
}
