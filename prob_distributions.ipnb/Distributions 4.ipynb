{
 "cells": [
  {
   "cell_type": "code",
   "execution_count": 1,
   "id": "76cd5a6e",
   "metadata": {},
   "outputs": [],
   "source": [
    "from scipy.stats import poisson"
   ]
  },
  {
   "cell_type": "code",
   "execution_count": 2,
   "id": "4a2942a1",
   "metadata": {},
   "outputs": [
    {
     "data": {
      "text/plain": [
       "0.513417119032592"
      ]
     },
     "execution_count": 2,
     "metadata": {},
     "output_type": "execute_result"
    }
   ],
   "source": [
    "poisson.pmf(k=0,mu=2/3)"
   ]
  },
  {
   "cell_type": "code",
   "execution_count": 6,
   "id": "696512fc",
   "metadata": {},
   "outputs": [
    {
     "data": {
      "text/plain": [
       "0.486582880967408"
      ]
     },
     "execution_count": 6,
     "metadata": {},
     "output_type": "execute_result"
    }
   ],
   "source": [
    "import math as m\n",
    "\n",
    "1 - m.exp(-2/3)"
   ]
  },
  {
   "cell_type": "code",
   "execution_count": 7,
   "id": "a67cd8bf",
   "metadata": {},
   "outputs": [],
   "source": [
    "from scipy.stats import expon"
   ]
  },
  {
   "cell_type": "code",
   "execution_count": 8,
   "id": "c4cd815e",
   "metadata": {},
   "outputs": [
    {
     "data": {
      "text/plain": [
       "0.486582880967408"
      ]
     },
     "execution_count": 8,
     "metadata": {},
     "output_type": "execute_result"
    }
   ],
   "source": [
    "# P[X <= 10]\n",
    "expon.cdf(x=10, scale=15) # scale over here is measuring the average wait time between occurrences."
   ]
  },
  {
   "cell_type": "code",
   "execution_count": 9,
   "id": "97bd750f",
   "metadata": {},
   "outputs": [
    {
     "data": {
      "text/plain": [
       "0.08144952294577923"
      ]
     },
     "execution_count": 9,
     "metadata": {},
     "output_type": "execute_result"
    }
   ],
   "source": [
    "expon.cdf(x=5, scale=5) - expon.cdf(x=4, scale=5)"
   ]
  },
  {
   "cell_type": "code",
   "execution_count": 11,
   "id": "74f7d249",
   "metadata": {},
   "outputs": [
    {
     "data": {
      "text/plain": [
       "0.3011942119122022"
      ]
     },
     "execution_count": 11,
     "metadata": {},
     "output_type": "execute_result"
    }
   ],
   "source": [
    "1 - expon.cdf(x=6, scale=5)"
   ]
  },
  {
   "cell_type": "code",
   "execution_count": 12,
   "id": "062a6306",
   "metadata": {},
   "outputs": [
    {
     "data": {
      "text/plain": [
       "0.30119421191220214"
      ]
     },
     "execution_count": 12,
     "metadata": {},
     "output_type": "execute_result"
    }
   ],
   "source": [
    "(1 - expon.cdf(x=9, scale=5)) / (1 - expon.cdf(x=3, scale=5))"
   ]
  },
  {
   "cell_type": "code",
   "execution_count": 13,
   "id": "0af65fb7",
   "metadata": {},
   "outputs": [
    {
     "data": {
      "text/plain": [
       "0.17377394345044517"
      ]
     },
     "execution_count": 13,
     "metadata": {},
     "output_type": "execute_result"
    }
   ],
   "source": [
    "(1 - expon.cdf(x=30, scale=60/3.5))"
   ]
  },
  {
   "cell_type": "code",
   "execution_count": 16,
   "id": "d4d91bd2",
   "metadata": {},
   "outputs": [
    {
     "data": {
      "text/plain": [
       "0.17377394345044517"
      ]
     },
     "execution_count": 16,
     "metadata": {},
     "output_type": "execute_result"
    }
   ],
   "source": [
    "(1 - expon.cdf(x=1, scale=2/3.5))"
   ]
  },
  {
   "cell_type": "markdown",
   "id": "652bbd91",
   "metadata": {},
   "source": [
    "### Waiting Time"
   ]
  },
  {
   "cell_type": "code",
   "execution_count": 29,
   "id": "16786820",
   "metadata": {},
   "outputs": [],
   "source": [
    "import pandas as pd\n",
    "wt = pd.read_csv(\"waiting_time.csv\")"
   ]
  },
  {
   "cell_type": "code",
   "execution_count": 30,
   "id": "ed7dd2b2",
   "metadata": {},
   "outputs": [],
   "source": [
    "import matplotlib.pyplot as plt\n",
    "import seaborn as sns"
   ]
  },
  {
   "cell_type": "code",
   "execution_count": 31,
   "id": "c886e64e",
   "metadata": {},
   "outputs": [
    {
     "data": {
      "text/plain": [
       "<AxesSubplot:ylabel='Count'>"
      ]
     },
     "execution_count": 31,
     "metadata": {},
     "output_type": "execute_result"
    },
    {
     "data": {
      "image/png": "[encoded data removed]",
      "text/plain": [
       "<Figure size 432x288 with 1 Axes>"
      ]
     },
     "metadata": {
      "needs_background": "light"
     },
     "output_type": "display_data"
    }
   ],
   "source": [
    "sns.histplot(wt)"
   ]
  },
  {
   "cell_type": "code",
   "execution_count": 26,
   "id": "80a1ba2c",
   "metadata": {},
   "outputs": [],
   "source": [
    "import numpy as np\n",
    "wt_log = np.log(wt)"
   ]
  },
  {
   "cell_type": "code",
   "execution_count": 32,
   "id": "5ebc60f9",
   "metadata": {},
   "outputs": [
    {
     "data": {
      "text/plain": [
       "<AxesSubplot:ylabel='Count'>"
      ]
     },
     "execution_count": 32,
     "metadata": {},
     "output_type": "execute_result"
    },
    {
     "data": {
      "image/png": "[encoded data removed]",
      "text/plain": [
       "<Figure size 432x288 with 1 Axes>"
      ]
     },
     "metadata": {
      "needs_background": "light"
     },
     "output_type": "display_data"
    }
   ],
   "source": [
    "sns.histplot(wt_log)"
   ]
  },
  {
   "cell_type": "code",
   "execution_count": null,
   "id": "72c2a89f",
   "metadata": {},
   "outputs": [],
   "source": []
  }
 ],
 "metadata": {
  "kernelspec": {
   "display_name": "Python 3 (ipykernel)",
   "language": "python",
   "name": "python3"
  },
  "language_info": {
   "codemirror_mode": {
    "name": "ipython",
    "version": 3
   },
   "file_extension": ".py",
   "mimetype": "text/x-python",
   "name": "python",
   "nbconvert_exporter": "python",
   "pygments_lexer": "ipython3",
   "version": "3.9.12"
  }
 },
 "nbformat": 4,
 "nbformat_minor": 5
}
