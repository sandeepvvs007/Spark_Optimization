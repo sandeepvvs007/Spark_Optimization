{
 "cells": [
  {
   "cell_type": "code",
   "execution_count": 17,
   "id": "7035e77c",
   "metadata": {},
   "outputs": [],
   "source": [
    "from scipy.stats import poisson, binom, geom"
   ]
  },
  {
   "cell_type": "code",
   "execution_count": 2,
   "id": "9efec771",
   "metadata": {},
   "outputs": [
    {
     "name": "stdout",
     "output_type": "stream",
     "text": [
      "Prob of 5 accidents tomorrow:  0.10081881344492458\n"
     ]
    }
   ],
   "source": [
    "print(\"Prob of 5 accidents tomorrow: \", poisson.pmf(k=5, mu=3))"
   ]
  },
  {
   "cell_type": "code",
   "execution_count": 4,
   "id": "f3e3284c",
   "metadata": {},
   "outputs": [
    {
     "data": {
      "text/plain": [
       "0.10081881344492448"
      ]
     },
     "execution_count": 4,
     "metadata": {},
     "output_type": "execute_result"
    }
   ],
   "source": [
    "import math as m\n",
    "def poisson_pmf(k, mu):\n",
    "    return mu**k * m.exp(-mu) / m.factorial(k)\n",
    "\n",
    "poisson_pmf(5, 3)"
   ]
  },
  {
   "cell_type": "code",
   "execution_count": 6,
   "id": "67b168c0",
   "metadata": {},
   "outputs": [
    {
     "name": "stdout",
     "output_type": "stream",
     "text": [
      "0.049787068367863944 0.14936120510359185 0.1991482734714558\n"
     ]
    }
   ],
   "source": [
    "p_x_0 = poisson.pmf(k=0, mu=3)\n",
    "p_x_1 = poisson.pmf(k=1, mu=3)\n",
    "\n",
    "print(p_x_0, p_x_1, p_x_0 + p_x_1)"
   ]
  },
  {
   "cell_type": "code",
   "execution_count": 8,
   "id": "b015374b",
   "metadata": {},
   "outputs": [
    {
     "data": {
      "text/plain": [
       "0.1991482734714558"
      ]
     },
     "execution_count": 8,
     "metadata": {},
     "output_type": "execute_result"
    }
   ],
   "source": [
    "poisson.cdf(k=1, mu=3)"
   ]
  },
  {
   "cell_type": "code",
   "execution_count": 9,
   "id": "c99ec6e5",
   "metadata": {
    "scrolled": true
   },
   "outputs": [
    {
     "data": {
      "text/plain": [
       "0.07188336510431341"
      ]
     },
     "execution_count": 9,
     "metadata": {},
     "output_type": "execute_result"
    }
   ],
   "source": [
    "poisson.pmf(k=15, mu=18.5)"
   ]
  },
  {
   "cell_type": "code",
   "execution_count": 10,
   "id": "070025aa",
   "metadata": {},
   "outputs": [
    {
     "data": {
      "text/plain": [
       "0.9992622541111789"
      ]
     },
     "execution_count": 10,
     "metadata": {},
     "output_type": "execute_result"
    }
   ],
   "source": [
    "1 - poisson.cdf(k=6, mu=18.5)"
   ]
  },
  {
   "cell_type": "code",
   "execution_count": 11,
   "id": "b782de63",
   "metadata": {},
   "outputs": [
    {
     "data": {
      "text/plain": [
       "0.9898141728888165"
      ]
     },
     "execution_count": 11,
     "metadata": {},
     "output_type": "execute_result"
    }
   ],
   "source": [
    "poisson.cdf(k=1, mu=0.15)"
   ]
  },
  {
   "cell_type": "code",
   "execution_count": 13,
   "id": "f2a6b3c3",
   "metadata": {},
   "outputs": [
    {
     "data": {
      "text/plain": [
       "0.08674393303071422"
      ]
     },
     "execution_count": 13,
     "metadata": {},
     "output_type": "execute_result"
    }
   ],
   "source": [
    "poisson.pmf(k=3, mu=1.2)"
   ]
  },
  {
   "cell_type": "code",
   "execution_count": 15,
   "id": "68d4b07a",
   "metadata": {},
   "outputs": [
    {
     "data": {
      "text/plain": [
       "0.08660120920447566"
      ]
     },
     "execution_count": 15,
     "metadata": {},
     "output_type": "execute_result"
    }
   ],
   "source": [
    "binom.pmf(n=80, p=0.015, k=3)"
   ]
  },
  {
   "cell_type": "code",
   "execution_count": 18,
   "id": "2b87d6e9",
   "metadata": {},
   "outputs": [
    {
     "data": {
      "text/plain": [
       "0.09645061728395063"
      ]
     },
     "execution_count": 18,
     "metadata": {},
     "output_type": "execute_result"
    }
   ],
   "source": [
    "geom.pmf(k=4, p=1/6)"
   ]
  },
  {
   "cell_type": "code",
   "execution_count": 19,
   "id": "a4a138d7",
   "metadata": {},
   "outputs": [
    {
     "name": "stdout",
     "output_type": "stream",
     "text": [
      "A geometric discrete random variable.\n",
      "\n",
      "As an instance of the `rv_discrete` class, `geom` object inherits from it\n",
      "a collection of generic methods (see below for the full list),\n",
      "and completes them with details specific for this particular distribution.\n",
      "\n",
      "Methods\n",
      "-------\n",
      "rvs(p, loc=0, size=1, random_state=None)\n",
      "    Random variates.\n",
      "pmf(k, p, loc=0)\n",
      "    Probability mass function.\n",
      "logpmf(k, p, loc=0)\n",
      "    Log of the probability mass function.\n",
      "cdf(k, p, loc=0)\n",
      "    Cumulative distribution function.\n",
      "logcdf(k, p, loc=0)\n",
      "    Log of the cumulative distribution function.\n",
      "sf(k, p, loc=0)\n",
      "    Survival function  (also defined as ``1 - cdf``, but `sf` is sometimes more accurate).\n",
      "logsf(k, p, loc=0)\n",
      "    Log of the survival function.\n",
      "ppf(q, p, loc=0)\n",
      "    Percent point function (inverse of ``cdf`` --- percentiles).\n",
      "isf(q, p, loc=0)\n",
      "    Inverse survival function (inverse of ``sf``).\n",
      "stats(p, loc=0, moments='mv')\n",
      "    Mean('m'), variance('v'), skew('s'), and/or kurtosis('k').\n",
      "entropy(p, loc=0)\n",
      "    (Differential) entropy of the RV.\n",
      "expect(func, args=(p,), loc=0, lb=None, ub=None, conditional=False)\n",
      "    Expected value of a function (of one argument) with respect to the distribution.\n",
      "median(p, loc=0)\n",
      "    Median of the distribution.\n",
      "mean(p, loc=0)\n",
      "    Mean of the distribution.\n",
      "var(p, loc=0)\n",
      "    Variance of the distribution.\n",
      "std(p, loc=0)\n",
      "    Standard deviation of the distribution.\n",
      "interval(alpha, p, loc=0)\n",
      "    Endpoints of the range that contains fraction alpha [0, 1] of the\n",
      "    distribution\n",
      "\n",
      "Notes\n",
      "-----\n",
      "The probability mass function for `geom` is:\n",
      "\n",
      ".. math::\n",
      "\n",
      "    f(k) = (1-p)^{k-1} p\n",
      "\n",
      "for :math:`k \\ge 1`, :math:`0 < p \\leq 1`\n",
      "\n",
      "`geom` takes :math:`p` as shape parameter,\n",
      "where :math:`p` is the probability of a single success\n",
      "and :math:`1-p` is the probability of a single failure.\n",
      "\n",
      "The probability mass function above is defined in the \"standardized\" form.\n",
      "To shift distribution use the ``loc`` parameter.\n",
      "Specifically, ``geom.pmf(k, p, loc)`` is identically\n",
      "equivalent to ``geom.pmf(k - loc, p)``.\n",
      "\n",
      "See Also\n",
      "--------\n",
      "planck\n",
      "\n",
      "Examples\n",
      "--------\n",
      ">>> from scipy.stats import geom\n",
      ">>> import matplotlib.pyplot as plt\n",
      ">>> fig, ax = plt.subplots(1, 1)\n",
      "\n",
      "Calculate the first four moments:\n",
      "\n",
      ">>> p = 0.5\n",
      ">>> mean, var, skew, kurt = geom.stats(p, moments='mvsk')\n",
      "\n",
      "Display the probability mass function (``pmf``):\n",
      "\n",
      ">>> x = np.arange(geom.ppf(0.01, p),\n",
      "...               geom.ppf(0.99, p))\n",
      ">>> ax.plot(x, geom.pmf(x, p), 'bo', ms=8, label='geom pmf')\n",
      ">>> ax.vlines(x, 0, geom.pmf(x, p), colors='b', lw=5, alpha=0.5)\n",
      "\n",
      "Alternatively, the distribution object can be called (as a function)\n",
      "to fix the shape and location. This returns a \"frozen\" RV object holding\n",
      "the given parameters fixed.\n",
      "\n",
      "Freeze the distribution and display the frozen ``pmf``:\n",
      "\n",
      ">>> rv = geom(p)\n",
      ">>> ax.vlines(x, 0, rv.pmf(x), colors='k', linestyles='-', lw=1,\n",
      "...         label='frozen pmf')\n",
      ">>> ax.legend(loc='best', frameon=False)\n",
      ">>> plt.show()\n",
      "\n",
      "Check accuracy of ``cdf`` and ``ppf``:\n",
      "\n",
      ">>> prob = geom.cdf(x, p)\n",
      ">>> np.allclose(x, geom.ppf(prob, p))\n",
      "True\n",
      "\n",
      "Generate random numbers:\n",
      "\n",
      ">>> r = geom.rvs(p, size=1000)\n"
     ]
    }
   ],
   "source": [
    "import numpy as np\n",
    "\n",
    "np.info(geom)"
   ]
  },
  {
   "cell_type": "code",
   "execution_count": 21,
   "id": "7b0de506",
   "metadata": {},
   "outputs": [
    {
     "data": {
      "text/plain": [
       "5.999999999999929"
      ]
     },
     "execution_count": 21,
     "metadata": {},
     "output_type": "execute_result"
    }
   ],
   "source": [
    "geom.expect(args=(1/6, ))"
   ]
  },
  {
   "cell_type": "code",
   "execution_count": 25,
   "id": "d52c1b9a",
   "metadata": {},
   "outputs": [
    {
     "name": "stdout",
     "output_type": "stream",
     "text": [
      "Expectation (formula):  200.0\n",
      "Expectation (scipy)  :  165.21610822462398\n"
     ]
    }
   ],
   "source": [
    "p = 1/200\n",
    "print(\"Expectation (formula): \", 1/p)\n",
    "print(\"Expectation (scipy)  : \", geom.expect(args=(p, )))"
   ]
  },
  {
   "cell_type": "code",
   "execution_count": 26,
   "id": "d4452066",
   "metadata": {},
   "outputs": [
    {
     "data": {
      "text/plain": [
       "0.018900000000000007"
      ]
     },
     "execution_count": 26,
     "metadata": {},
     "output_type": "execute_result"
    }
   ],
   "source": [
    "geom.pmf(k=4, p=0.7)"
   ]
  },
  {
   "cell_type": "code",
   "execution_count": 28,
   "id": "8a2677b8",
   "metadata": {},
   "outputs": [
    {
     "data": {
      "text/plain": [
       "0.08999999999999997"
      ]
     },
     "execution_count": 28,
     "metadata": {},
     "output_type": "execute_result"
    }
   ],
   "source": [
    "1 - geom.cdf(k=2, p=0.7)"
   ]
  },
  {
   "cell_type": "code",
   "execution_count": 30,
   "id": "93ea5159",
   "metadata": {},
   "outputs": [],
   "source": [
    "r = geom.rvs(0.7, size=1000)"
   ]
  },
  {
   "cell_type": "code",
   "execution_count": null,
   "id": "72f67095",
   "metadata": {},
   "outputs": [],
   "source": []
  }
 ],
 "metadata": {
  "kernelspec": {
   "display_name": "Python 3 (ipykernel)",
   "language": "python",
   "name": "python3"
  },
  "language_info": {
   "codemirror_mode": {
    "name": "ipython",
    "version": 3
   },
   "file_extension": ".py",
   "mimetype": "text/x-python",
   "name": "python",
   "nbconvert_exporter": "python",
   "pygments_lexer": "ipython3",
   "version": "3.9.12"
  }
 },
 "nbformat": 4,
 "nbformat_minor": 5
}
